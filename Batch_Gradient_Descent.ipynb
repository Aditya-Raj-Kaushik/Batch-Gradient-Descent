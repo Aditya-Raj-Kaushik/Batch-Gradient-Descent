{
  "nbformat": 4,
  "nbformat_minor": 0,
  "metadata": {
    "colab": {
      "provenance": [],
      "authorship_tag": "ABX9TyMJfxO55yj0YTTFrJpiKNyU",
      "include_colab_link": true
    },
    "kernelspec": {
      "name": "python3",
      "display_name": "Python 3"
    },
    "language_info": {
      "name": "python"
    }
  },
  "cells": [
    {
      "cell_type": "markdown",
      "metadata": {
        "id": "view-in-github",
        "colab_type": "text"
      },
      "source": [
        "<a href=\"https://colab.research.google.com/github/Aditya-Raj-Kaushik/Batch-Gradient-Descent/blob/main/Batch_Gradient_Descent.ipynb\" target=\"_parent\"><img src=\"https://colab.research.google.com/assets/colab-badge.svg\" alt=\"Open In Colab\"/></a>"
      ]
    },
    {
      "cell_type": "code",
      "execution_count": null,
      "metadata": {
        "id": "KzsLCv-RpCF7"
      },
      "outputs": [],
      "source": [
        "import numpy as np\n",
        "import matplotlib.pyplot as plt\n",
        "from sklearn.datasets import load_diabetes\n",
        "from sklearn.model_selection import train_test_split\n",
        "from sklearn.preprocessing import StandardScaler\n",
        "from sklearn.metrics import mean_squared_error"
      ]
    },
    {
      "cell_type": "code",
      "source": [
        "data = load_diabetes()\n",
        "X = data.data\n",
        "y = data.target"
      ],
      "metadata": {
        "id": "zodDrwX1pF83"
      },
      "execution_count": null,
      "outputs": []
    },
    {
      "cell_type": "code",
      "source": [
        "X_train, X_test, y_train, y_test = train_test_split(X, y, test_size=0.2, random_state=42)\n",
        "\n",
        "scaler = StandardScaler()\n",
        "X_train = scaler.fit_transform(X_train)\n",
        "X_test = scaler.transform(X_test)"
      ],
      "metadata": {
        "id": "y3SShnZnpIiC"
      },
      "execution_count": null,
      "outputs": []
    },
    {
      "cell_type": "code",
      "source": [
        "def batch_gradient_descent(X, y, lr=0.01, epochs=1000):\n",
        "    m, n = X.shape\n",
        "    weights = np.zeros(n)\n",
        "    bias = 0\n",
        "    cost_history = []\n",
        "    for epoch in range(epochs):\n",
        "        y_pred = np.dot(X, weights) + bias\n",
        "        cost = (1/m) * np.sum((y_pred - y) ** 2)\n",
        "        cost_history.append(cost)\n",
        "        dw = -(2/m) * np.dot(X.T, (y - y_pred))\n",
        "        db = -(2/m) * np.sum(y - y_pred)\n",
        "        weights -= lr * dw\n",
        "        bias -= lr * db\n",
        "    return weights, bias, cost_history"
      ],
      "metadata": {
        "id": "bhHanW8tpL30"
      },
      "execution_count": null,
      "outputs": []
    },
    {
      "cell_type": "code",
      "source": [
        "weights, bias, cost_history = batch_gradient_descent(X_train, y_train)\n",
        "\n",
        "y_pred = np.dot(X_test, weights) + bias\n",
        "\n",
        "mse = mean_squared_error(y_test, y_pred)\n",
        "print(f\"Weights: {weights}\")\n",
        "print(f\"Bias: {bias}\")\n",
        "print(f\"Mean Squared Error: {mse}\")"
      ],
      "metadata": {
        "id": "CiK1696rpSR4"
      },
      "execution_count": null,
      "outputs": []
    },
    {
      "cell_type": "code",
      "source": [
        "plt.plot(range(len(cost_history)), cost_history)\n",
        "plt.xlabel('Iterations')\n",
        "plt.ylabel('Cost')\n",
        "plt.title('Cost vs Iteration (Batch Gradient Descent)')\n",
        "plt.show()"
      ],
      "metadata": {
        "id": "LAfa3PVspU-1"
      },
      "execution_count": null,
      "outputs": []
    }
  ]
}